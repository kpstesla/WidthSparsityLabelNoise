{
 "cells": [
  {
   "cell_type": "code",
   "execution_count": 13,
   "metadata": {
    "pycharm": {
     "name": "#%%\n"
    }
   },
   "outputs": [],
   "source": [
    "import numpy as np\n",
    "import torch\n",
    "from torchvision import transforms\n",
    "from torchvision.models import efficientnet_b4\n",
    "from torch.utils.data import DataLoader\n",
    "from datasets import WebvisionDataset, MislabelledDataset\n",
    "import matplotlib.pyplot as plt\n",
    "from tqdm import tqdm"
   ]
  },
  {
   "cell_type": "code",
   "execution_count": 5,
   "metadata": {},
   "outputs": [],
   "source": [
    "device = 'cuda:1'\n",
    "data_root = 'data/'\n",
    "webvision_img_size = 227"
   ]
  },
  {
   "cell_type": "code",
   "execution_count": 3,
   "metadata": {},
   "outputs": [
    {
     "name": "stderr",
     "output_type": "stream",
     "text": [
      "Downloading: \"https://download.pytorch.org/models/efficientnet_b4_rwightman-7eb33cd5.pth\" to /home/kylew/.cache/torch/hub/checkpoints/efficientnet_b4_rwightman-7eb33cd5.pth\n"
     ]
    },
    {
     "data": {
      "application/vnd.jupyter.widget-view+json": {
       "model_id": "90d31c53920a40ac891f13637227e4d6",
       "version_major": 2,
       "version_minor": 0
      },
      "text/plain": [
       "  0%|          | 0.00/74.5M [00:00<?, ?B/s]"
      ]
     },
     "metadata": {},
     "output_type": "display_data"
    },
    {
     "name": "stdout",
     "output_type": "stream",
     "text": [
      "Number of Parameters: 19341616\n"
     ]
    }
   ],
   "source": [
    "# prep model\n",
    "model = efficientnet_b4(pretrained=True)\n",
    "model = model.to(device)\n",
    "print(\"Number of parameters:\", sum([p.numel() for p in model.parameters()]))"
   ]
  },
  {
   "cell_type": "code",
   "execution_count": 17,
   "metadata": {},
   "outputs": [
    {
     "name": "stdout",
     "output_type": "stream",
     "text": [
      "Dataset length: 980449\n",
      "Number of batches: 30640\n"
     ]
    }
   ],
   "source": [
    "# prep dataset and dataloader\n",
    "im_web_normalize = transforms.Compose([\n",
    "        transforms.ToTensor(),\n",
    "        transforms.Normalize((0.485, 0.456, 0.406), (0.229, 0.224, 0.225))\n",
    "    ])\n",
    "web_test = transforms.Compose([\n",
    "        transforms.CenterCrop(227),\n",
    "        transforms.Resize(webvision_img_size),\n",
    "    ])\n",
    "\n",
    "train_data = WebvisionDataset(data_root, num_classes=1000, train=True, include_flickr=False, transform=im_web_normalize)\n",
    "train_dataset = MislabelledDataset(train_data, num_classes=1000, cache=False, transform=web_test)\n",
    "\n",
    "print(\"Dataset length:\", len(train_dataset))\n",
    "\n",
    "train_loader = train_loader = DataLoader(train_dataset, 32, shuffle=False, num_workers=8,\n",
    "                              pin_memory=True, prefetch_factor=2)\n",
    "print(\"Number of batches:\", len(train_loader))\n"
   ]
  },
  {
   "cell_type": "code",
   "execution_count": 18,
   "metadata": {},
   "outputs": [
    {
     "name": "stderr",
     "output_type": "stream",
     "text": [
      "Evaluating Images: 100%|█████████████████████████| 30640/30640 [24:52<00:00, 20.53it/s]\n"
     ]
    }
   ],
   "source": [
    "# create ntm\n",
    "# NTM[i][j] = predicted i by model, labelled j by webvision\n",
    "NTM = np.zeros((1000, 1000))\n",
    "model.eval()\n",
    "loop = tqdm(train_loader, desc=f\"Evaluating Images\", total=len(train_loader))\n",
    "for batch_x, batch_y, batch_real, batch_ind in loop:\n",
    "    if device is not None:\n",
    "        batch_x = batch_x.to(device)\n",
    "    \n",
    "    out = model.forward(batch_x)\n",
    "    \n",
    "    preds = out.argmax(dim=-1).detach().cpu().numpy()\n",
    "    labels = batch_y.detach().cpu().numpy()\n",
    "    for i in range(len(preds)):\n",
    "        NTM[preds[i]][labels[i]] += 1"
   ]
  },
  {
   "cell_type": "code",
   "execution_count": 20,
   "metadata": {},
   "outputs": [],
   "source": [
    "np.savetxt(\"saved/web_est_NTM.txt\", NTM)"
   ]
  },
  {
   "cell_type": "code",
   "execution_count": null,
   "metadata": {},
   "outputs": [],
   "source": [
    "np.save()"
   ]
  }
 ],
 "metadata": {
  "kernelspec": {
   "display_name": "Python 3 (ipykernel)",
   "language": "python",
   "name": "python3"
  },
  "language_info": {
   "codemirror_mode": {
    "name": "ipython",
    "version": 3
   },
   "file_extension": ".py",
   "mimetype": "text/x-python",
   "name": "python",
   "nbconvert_exporter": "python",
   "pygments_lexer": "ipython3",
   "version": "3.9.5"
  }
 },
 "nbformat": 4,
 "nbformat_minor": 1
}
